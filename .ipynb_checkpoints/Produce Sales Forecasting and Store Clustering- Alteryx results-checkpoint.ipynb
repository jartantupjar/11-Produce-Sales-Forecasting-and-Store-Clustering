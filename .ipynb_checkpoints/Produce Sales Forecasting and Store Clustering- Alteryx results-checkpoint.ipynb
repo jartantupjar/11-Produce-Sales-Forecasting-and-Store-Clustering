{
 "cells": [
  {
   "cell_type": "markdown",
   "metadata": {},
   "source": [
    "## This solution is solely based as a way to reproduce the Alteryx results for this project and problem"
   ]
  },
  {
   "cell_type": "markdown",
   "metadata": {},
   "source": [
    "**Task 1: Determining Store Format**\n",
    "\n",
    "To remedy the product surplus and shortages, the company wants to introduce different store formats. Each store format will have a different product selection in order to better match local demand. The actual building sizes will not change, just the product selection and internal layouts. The terms formats and segments will be used interchangeably throughout this project. You’ve been asked to:\n",
    "\n",
    "    Determine the optimal number of store formats based on sales data.\n",
    "        Sum sales data by StoreID and Year\n",
    "        Use percentage sales per category per store for clustering (category sales as a percentage of total store sales).\n",
    "        Use only 2015 sales data.\n",
    "        Use a K-means clustering model.\n",
    "    Segment the 85 current stores into the different store formats.\n",
    "    Use the StoreSalesData.csv and StoreInformation.csv files."
   ]
  },
  {
   "cell_type": "code",
   "execution_count": 352,
   "metadata": {},
   "outputs": [],
   "source": [
    "import numpy as np\n",
    "import pandas as pd\n",
    "import matplotlib.pyplot as plt\n",
    "%matplotlib inline\n",
    "from IPython.display import display"
   ]
  },
  {
   "cell_type": "code",
   "execution_count": 353,
   "metadata": {},
   "outputs": [
    {
     "data": {
      "text/plain": [
       "Store                   object\n",
       "Day                     object\n",
       "Month                   object\n",
       "Year                    object\n",
       "Dry_Grocery            float64\n",
       "Dairy                  float64\n",
       "Frozen_Food            float64\n",
       "Meat                   float64\n",
       "Produce                float64\n",
       "Floral                 float64\n",
       "Deli                   float64\n",
       "Bakery                 float64\n",
       "General_Merchandise    float64\n",
       "dtype: object"
      ]
     },
     "execution_count": 353,
     "metadata": {},
     "output_type": "execute_result"
    }
   ],
   "source": [
    "sales_data=pd.read_csv('storesalesdata.csv',dtype={'Month':np.object,'Day':np.object,'Year':np.object})\n",
    "store_data=pd.read_csv('storeinformation.csv')\n",
    "sales_data.dtypes"
   ]
  },
  {
   "cell_type": "code",
   "execution_count": 354,
   "metadata": {},
   "outputs": [
    {
     "data": {
      "text/html": [
       "<div>\n",
       "<style scoped>\n",
       "    .dataframe tbody tr th:only-of-type {\n",
       "        vertical-align: middle;\n",
       "    }\n",
       "\n",
       "    .dataframe tbody tr th {\n",
       "        vertical-align: top;\n",
       "    }\n",
       "\n",
       "    .dataframe thead th {\n",
       "        text-align: right;\n",
       "    }\n",
       "</style>\n",
       "<table border=\"1\" class=\"dataframe\">\n",
       "  <thead>\n",
       "    <tr style=\"text-align: right;\">\n",
       "      <th></th>\n",
       "      <th>Store</th>\n",
       "      <th>Day</th>\n",
       "      <th>Month</th>\n",
       "      <th>Year</th>\n",
       "      <th>Dry_Grocery</th>\n",
       "      <th>Dairy</th>\n",
       "      <th>Frozen_Food</th>\n",
       "      <th>Meat</th>\n",
       "      <th>Produce</th>\n",
       "      <th>Floral</th>\n",
       "      <th>Deli</th>\n",
       "      <th>Bakery</th>\n",
       "      <th>General_Merchandise</th>\n",
       "    </tr>\n",
       "  </thead>\n",
       "  <tbody>\n",
       "    <tr>\n",
       "      <th>0</th>\n",
       "      <td>S0001</td>\n",
       "      <td>01</td>\n",
       "      <td>03</td>\n",
       "      <td>2012</td>\n",
       "      <td>23401.06</td>\n",
       "      <td>5567.90</td>\n",
       "      <td>3930.28</td>\n",
       "      <td>5223.61</td>\n",
       "      <td>4542.28</td>\n",
       "      <td>238.58</td>\n",
       "      <td>2608.78</td>\n",
       "      <td>1651.77</td>\n",
       "      <td>4304.79</td>\n",
       "    </tr>\n",
       "    <tr>\n",
       "      <th>1</th>\n",
       "      <td>S0001</td>\n",
       "      <td>02</td>\n",
       "      <td>03</td>\n",
       "      <td>2012</td>\n",
       "      <td>32442.93</td>\n",
       "      <td>8009.52</td>\n",
       "      <td>4712.31</td>\n",
       "      <td>6174.72</td>\n",
       "      <td>9503.45</td>\n",
       "      <td>245.29</td>\n",
       "      <td>2692.72</td>\n",
       "      <td>2688.89</td>\n",
       "      <td>4467.51</td>\n",
       "    </tr>\n",
       "    <tr>\n",
       "      <th>2</th>\n",
       "      <td>S0001</td>\n",
       "      <td>03</td>\n",
       "      <td>03</td>\n",
       "      <td>2012</td>\n",
       "      <td>40433.61</td>\n",
       "      <td>9759.20</td>\n",
       "      <td>5969.03</td>\n",
       "      <td>8010.67</td>\n",
       "      <td>12793.92</td>\n",
       "      <td>282.12</td>\n",
       "      <td>3493.85</td>\n",
       "      <td>2929.85</td>\n",
       "      <td>5721.60</td>\n",
       "    </tr>\n",
       "  </tbody>\n",
       "</table>\n",
       "</div>"
      ],
      "text/plain": [
       "   Store Day Month  Year  Dry_Grocery    Dairy  Frozen_Food     Meat  \\\n",
       "0  S0001  01    03  2012     23401.06  5567.90      3930.28  5223.61   \n",
       "1  S0001  02    03  2012     32442.93  8009.52      4712.31  6174.72   \n",
       "2  S0001  03    03  2012     40433.61  9759.20      5969.03  8010.67   \n",
       "\n",
       "    Produce  Floral     Deli   Bakery  General_Merchandise  \n",
       "0   4542.28  238.58  2608.78  1651.77              4304.79  \n",
       "1   9503.45  245.29  2692.72  2688.89              4467.51  \n",
       "2  12793.92  282.12  3493.85  2929.85              5721.60  "
      ]
     },
     "execution_count": 354,
     "metadata": {},
     "output_type": "execute_result"
    }
   ],
   "source": [
    "sales_data.head(3)"
   ]
  },
  {
   "cell_type": "code",
   "execution_count": 355,
   "metadata": {},
   "outputs": [
    {
     "data": {
      "text/html": [
       "<div>\n",
       "<style scoped>\n",
       "    .dataframe tbody tr th:only-of-type {\n",
       "        vertical-align: middle;\n",
       "    }\n",
       "\n",
       "    .dataframe tbody tr th {\n",
       "        vertical-align: top;\n",
       "    }\n",
       "\n",
       "    .dataframe thead th {\n",
       "        text-align: right;\n",
       "    }\n",
       "</style>\n",
       "<table border=\"1\" class=\"dataframe\">\n",
       "  <thead>\n",
       "    <tr style=\"text-align: right;\">\n",
       "      <th></th>\n",
       "      <th>Store</th>\n",
       "      <th>Address</th>\n",
       "      <th>City</th>\n",
       "      <th>State</th>\n",
       "      <th>Zip</th>\n",
       "      <th>Type</th>\n",
       "    </tr>\n",
       "  </thead>\n",
       "  <tbody>\n",
       "    <tr>\n",
       "      <th>0</th>\n",
       "      <td>S0001</td>\n",
       "      <td>1000 W El Norte Pkwy</td>\n",
       "      <td>Escondido</td>\n",
       "      <td>CA</td>\n",
       "      <td>92027</td>\n",
       "      <td>Existing</td>\n",
       "    </tr>\n",
       "    <tr>\n",
       "      <th>1</th>\n",
       "      <td>S0002</td>\n",
       "      <td>12419 Woodside Ave</td>\n",
       "      <td>Lakeside</td>\n",
       "      <td>CA</td>\n",
       "      <td>92040</td>\n",
       "      <td>Existing</td>\n",
       "    </tr>\n",
       "    <tr>\n",
       "      <th>2</th>\n",
       "      <td>S0003</td>\n",
       "      <td>1342 N Alvarado St</td>\n",
       "      <td>Los Angeles</td>\n",
       "      <td>CA</td>\n",
       "      <td>90026</td>\n",
       "      <td>Existing</td>\n",
       "    </tr>\n",
       "  </tbody>\n",
       "</table>\n",
       "</div>"
      ],
      "text/plain": [
       "   Store               Address         City State    Zip      Type\n",
       "0  S0001  1000 W El Norte Pkwy    Escondido    CA  92027  Existing\n",
       "1  S0002    12419 Woodside Ave     Lakeside    CA  92040  Existing\n",
       "2  S0003    1342 N Alvarado St  Los Angeles    CA  90026  Existing"
      ]
     },
     "execution_count": 355,
     "metadata": {},
     "output_type": "execute_result"
    }
   ],
   "source": [
    "store_data.head(3)"
   ]
  },
  {
   "cell_type": "code",
   "execution_count": 356,
   "metadata": {},
   "outputs": [
    {
     "data": {
      "image/png": "[encoded data removed]",
      "text/plain": [
       "<Figure size 720x720 with 9 Axes>"
      ]
     },
     "metadata": {},
     "output_type": "display_data"
    }
   ],
   "source": [
    "sales_data.hist(figsize=(10,10))\n",
    "plt.tight_layout()"
   ]
  },
  {
   "cell_type": "code",
   "execution_count": 357,
   "metadata": {},
   "outputs": [
    {
     "data": {
      "text/plain": [
       "Store                  0\n",
       "Day                    0\n",
       "Month                  0\n",
       "Year                   0\n",
       "Dry_Grocery            0\n",
       "Dairy                  0\n",
       "Frozen_Food            0\n",
       "Meat                   0\n",
       "Produce                0\n",
       "Floral                 0\n",
       "Deli                   0\n",
       "Bakery                 0\n",
       "General_Merchandise    0\n",
       "dtype: int64"
      ]
     },
     "execution_count": 357,
     "metadata": {},
     "output_type": "execute_result"
    }
   ],
   "source": [
    "sales_data.isnull().sum()"
   ]
  },
  {
   "cell_type": "code",
   "execution_count": 358,
   "metadata": {},
   "outputs": [
    {
     "data": {
      "text/plain": [
       "count    116232.000000\n",
       "mean       9081.584935\n",
       "std        4702.229928\n",
       "min           0.000000\n",
       "25%        5865.957500\n",
       "50%        7905.615000\n",
       "75%       11050.362500\n",
       "max      355587.600000\n",
       "Name: Meat, dtype: float64"
      ]
     },
     "execution_count": 358,
     "metadata": {},
     "output_type": "execute_result"
    }
   ],
   "source": [
    "sales_data['Meat'].describe()"
   ]
  },
  {
   "cell_type": "code",
   "execution_count": 359,
   "metadata": {},
   "outputs": [
    {
     "data": {
      "text/plain": [
       "Existing    85\n",
       "New         10\n",
       "Name: Type, dtype: int64"
      ]
     },
     "execution_count": 359,
     "metadata": {},
     "output_type": "execute_result"
    }
   ],
   "source": [
    "store_data['Type'].value_counts()"
   ]
  },
  {
   "cell_type": "code",
   "execution_count": 360,
   "metadata": {
    "scrolled": true
   },
   "outputs": [
    {
     "data": {
      "text/html": [
       "<div>\n",
       "<style scoped>\n",
       "    .dataframe tbody tr th:only-of-type {\n",
       "        vertical-align: middle;\n",
       "    }\n",
       "\n",
       "    .dataframe tbody tr th {\n",
       "        vertical-align: top;\n",
       "    }\n",
       "\n",
       "    .dataframe thead th {\n",
       "        text-align: right;\n",
       "    }\n",
       "</style>\n",
       "<table border=\"1\" class=\"dataframe\">\n",
       "  <thead>\n",
       "    <tr style=\"text-align: right;\">\n",
       "      <th></th>\n",
       "      <th></th>\n",
       "      <th>Dry_Grocery</th>\n",
       "      <th>Dairy</th>\n",
       "      <th>Frozen_Food</th>\n",
       "      <th>Meat</th>\n",
       "      <th>Produce</th>\n",
       "      <th>Floral</th>\n",
       "      <th>Deli</th>\n",
       "      <th>Bakery</th>\n",
       "      <th>General_Merchandise</th>\n",
       "    </tr>\n",
       "    <tr>\n",
       "      <th>Store</th>\n",
       "      <th>Year</th>\n",
       "      <th></th>\n",
       "      <th></th>\n",
       "      <th></th>\n",
       "      <th></th>\n",
       "      <th></th>\n",
       "      <th></th>\n",
       "      <th></th>\n",
       "      <th></th>\n",
       "      <th></th>\n",
       "    </tr>\n",
       "  </thead>\n",
       "  <tbody>\n",
       "    <tr>\n",
       "      <th>S0001</th>\n",
       "      <th>2015</th>\n",
       "      <td>10845787.65</td>\n",
       "      <td>2423389.38</td>\n",
       "      <td>1814872.88</td>\n",
       "      <td>2531382.34</td>\n",
       "      <td>2284388.70</td>\n",
       "      <td>159142.23</td>\n",
       "      <td>1023812.90</td>\n",
       "      <td>835599.06</td>\n",
       "      <td>1590570.68</td>\n",
       "    </tr>\n",
       "    <tr>\n",
       "      <th>S0002</th>\n",
       "      <th>2015</th>\n",
       "      <td>7931072.94</td>\n",
       "      <td>1844188.83</td>\n",
       "      <td>1366677.52</td>\n",
       "      <td>1991807.66</td>\n",
       "      <td>1755293.15</td>\n",
       "      <td>128935.92</td>\n",
       "      <td>689786.42</td>\n",
       "      <td>514864.68</td>\n",
       "      <td>1111992.45</td>\n",
       "    </tr>\n",
       "    <tr>\n",
       "      <th>S0003</th>\n",
       "      <th>2015</th>\n",
       "      <td>12741875.44</td>\n",
       "      <td>3095321.58</td>\n",
       "      <td>2087437.15</td>\n",
       "      <td>3468989.12</td>\n",
       "      <td>3792143.03</td>\n",
       "      <td>291259.69</td>\n",
       "      <td>1262874.27</td>\n",
       "      <td>1091930.44</td>\n",
       "      <td>2408831.27</td>\n",
       "    </tr>\n",
       "  </tbody>\n",
       "</table>\n",
       "</div>"
      ],
      "text/plain": [
       "            Dry_Grocery       Dairy  Frozen_Food        Meat     Produce  \\\n",
       "Store Year                                                                 \n",
       "S0001 2015  10845787.65  2423389.38   1814872.88  2531382.34  2284388.70   \n",
       "S0002 2015   7931072.94  1844188.83   1366677.52  1991807.66  1755293.15   \n",
       "S0003 2015  12741875.44  3095321.58   2087437.15  3468989.12  3792143.03   \n",
       "\n",
       "               Floral        Deli      Bakery  General_Merchandise  \n",
       "Store Year                                                          \n",
       "S0001 2015  159142.23  1023812.90   835599.06           1590570.68  \n",
       "S0002 2015  128935.92   689786.42   514864.68           1111992.45  \n",
       "S0003 2015  291259.69  1262874.27  1091930.44           2408831.27  "
      ]
     },
     "execution_count": 360,
     "metadata": {},
     "output_type": "execute_result"
    }
   ],
   "source": [
    "year_sales=sales_data.loc[sales_data['Year']=='2015']\n",
    "year_sales=year_sales.groupby(['Store','Year']).sum()\n",
    "year_sales.head(3)"
   ]
  },
  {
   "cell_type": "code",
   "execution_count": 362,
   "metadata": {},
   "outputs": [
    {
     "data": {
      "text/html": [
       "<div>\n",
       "<style scoped>\n",
       "    .dataframe tbody tr th:only-of-type {\n",
       "        vertical-align: middle;\n",
       "    }\n",
       "\n",
       "    .dataframe tbody tr th {\n",
       "        vertical-align: top;\n",
       "    }\n",
       "\n",
       "    .dataframe thead th {\n",
       "        text-align: right;\n",
       "    }\n",
       "</style>\n",
       "<table border=\"1\" class=\"dataframe\">\n",
       "  <thead>\n",
       "    <tr style=\"text-align: right;\">\n",
       "      <th></th>\n",
       "      <th></th>\n",
       "      <th>Dry_Grocery</th>\n",
       "      <th>Dairy</th>\n",
       "      <th>Frozen_Food</th>\n",
       "      <th>Meat</th>\n",
       "      <th>Produce</th>\n",
       "      <th>Floral</th>\n",
       "      <th>Deli</th>\n",
       "      <th>Bakery</th>\n",
       "      <th>General_Merchandise</th>\n",
       "      <th>Total_Sales</th>\n",
       "    </tr>\n",
       "    <tr>\n",
       "      <th>Store</th>\n",
       "      <th>Year</th>\n",
       "      <th></th>\n",
       "      <th></th>\n",
       "      <th></th>\n",
       "      <th></th>\n",
       "      <th></th>\n",
       "      <th></th>\n",
       "      <th></th>\n",
       "      <th></th>\n",
       "      <th></th>\n",
       "      <th></th>\n",
       "    </tr>\n",
       "  </thead>\n",
       "  <tbody>\n",
       "    <tr>\n",
       "      <th>S0001</th>\n",
       "      <th>2015</th>\n",
       "      <td>10845787.65</td>\n",
       "      <td>2423389.38</td>\n",
       "      <td>1814872.88</td>\n",
       "      <td>2531382.34</td>\n",
       "      <td>2284388.70</td>\n",
       "      <td>159142.23</td>\n",
       "      <td>1023812.90</td>\n",
       "      <td>835599.06</td>\n",
       "      <td>1590570.68</td>\n",
       "      <td>23508945.82</td>\n",
       "    </tr>\n",
       "    <tr>\n",
       "      <th>S0002</th>\n",
       "      <th>2015</th>\n",
       "      <td>7931072.94</td>\n",
       "      <td>1844188.83</td>\n",
       "      <td>1366677.52</td>\n",
       "      <td>1991807.66</td>\n",
       "      <td>1755293.15</td>\n",
       "      <td>128935.92</td>\n",
       "      <td>689786.42</td>\n",
       "      <td>514864.68</td>\n",
       "      <td>1111992.45</td>\n",
       "      <td>17334619.57</td>\n",
       "    </tr>\n",
       "    <tr>\n",
       "      <th>S0003</th>\n",
       "      <th>2015</th>\n",
       "      <td>12741875.44</td>\n",
       "      <td>3095321.58</td>\n",
       "      <td>2087437.15</td>\n",
       "      <td>3468989.12</td>\n",
       "      <td>3792143.03</td>\n",
       "      <td>291259.69</td>\n",
       "      <td>1262874.27</td>\n",
       "      <td>1091930.44</td>\n",
       "      <td>2408831.27</td>\n",
       "      <td>30240661.99</td>\n",
       "    </tr>\n",
       "  </tbody>\n",
       "</table>\n",
       "</div>"
      ],
      "text/plain": [
       "            Dry_Grocery       Dairy  Frozen_Food        Meat     Produce  \\\n",
       "Store Year                                                                 \n",
       "S0001 2015  10845787.65  2423389.38   1814872.88  2531382.34  2284388.70   \n",
       "S0002 2015   7931072.94  1844188.83   1366677.52  1991807.66  1755293.15   \n",
       "S0003 2015  12741875.44  3095321.58   2087437.15  3468989.12  3792143.03   \n",
       "\n",
       "               Floral        Deli      Bakery  General_Merchandise  \\\n",
       "Store Year                                                           \n",
       "S0001 2015  159142.23  1023812.90   835599.06           1590570.68   \n",
       "S0002 2015  128935.92   689786.42   514864.68           1111992.45   \n",
       "S0003 2015  291259.69  1262874.27  1091930.44           2408831.27   \n",
       "\n",
       "            Total_Sales  \n",
       "Store Year               \n",
       "S0001 2015  23508945.82  \n",
       "S0002 2015  17334619.57  \n",
       "S0003 2015  30240661.99  "
      ]
     },
     "execution_count": 362,
     "metadata": {},
     "output_type": "execute_result"
    }
   ],
   "source": [
    "total_sales=year_sales.copy()\n",
    "total_sales['Total_Sales']=year_sales[year_sales.columns].sum(axis=1)\n",
    "total_sales.head(3)"
   ]
  },
  {
   "cell_type": "code",
   "execution_count": 363,
   "metadata": {},
   "outputs": [
    {
     "data": {
      "text/html": [
       "<div>\n",
       "<style scoped>\n",
       "    .dataframe tbody tr th:only-of-type {\n",
       "        vertical-align: middle;\n",
       "    }\n",
       "\n",
       "    .dataframe tbody tr th {\n",
       "        vertical-align: top;\n",
       "    }\n",
       "\n",
       "    .dataframe thead th {\n",
       "        text-align: right;\n",
       "    }\n",
       "</style>\n",
       "<table border=\"1\" class=\"dataframe\">\n",
       "  <thead>\n",
       "    <tr style=\"text-align: right;\">\n",
       "      <th></th>\n",
       "      <th>Dry_Grocery</th>\n",
       "      <th>Dairy</th>\n",
       "      <th>Frozen_Food</th>\n",
       "      <th>Meat</th>\n",
       "      <th>Produce</th>\n",
       "      <th>Floral</th>\n",
       "      <th>Deli</th>\n",
       "      <th>Bakery</th>\n",
       "      <th>General_Merchandise</th>\n",
       "    </tr>\n",
       "    <tr>\n",
       "      <th>Store</th>\n",
       "      <th></th>\n",
       "      <th></th>\n",
       "      <th></th>\n",
       "      <th></th>\n",
       "      <th></th>\n",
       "      <th></th>\n",
       "      <th></th>\n",
       "      <th></th>\n",
       "      <th></th>\n",
       "    </tr>\n",
       "  </thead>\n",
       "  <tbody>\n",
       "    <tr>\n",
       "      <th>S0001</th>\n",
       "      <td>46.134726</td>\n",
       "      <td>10.308371</td>\n",
       "      <td>7.719925</td>\n",
       "      <td>10.767741</td>\n",
       "      <td>9.717104</td>\n",
       "      <td>0.676943</td>\n",
       "      <td>4.354993</td>\n",
       "      <td>3.554388</td>\n",
       "      <td>6.765810</td>\n",
       "    </tr>\n",
       "    <tr>\n",
       "      <th>S0002</th>\n",
       "      <td>45.752795</td>\n",
       "      <td>10.638761</td>\n",
       "      <td>7.884093</td>\n",
       "      <td>11.490345</td>\n",
       "      <td>10.125940</td>\n",
       "      <td>0.743806</td>\n",
       "      <td>3.979242</td>\n",
       "      <td>2.970153</td>\n",
       "      <td>6.414865</td>\n",
       "    </tr>\n",
       "    <tr>\n",
       "      <th>S0003</th>\n",
       "      <td>42.134909</td>\n",
       "      <td>10.235628</td>\n",
       "      <td>6.902750</td>\n",
       "      <td>11.471274</td>\n",
       "      <td>12.539881</td>\n",
       "      <td>0.963139</td>\n",
       "      <td>4.176080</td>\n",
       "      <td>3.610802</td>\n",
       "      <td>7.965537</td>\n",
       "    </tr>\n",
       "  </tbody>\n",
       "</table>\n",
       "</div>"
      ],
      "text/plain": [
       "       Dry_Grocery      Dairy  Frozen_Food       Meat    Produce    Floral  \\\n",
       "Store                                                                        \n",
       "S0001    46.134726  10.308371     7.719925  10.767741   9.717104  0.676943   \n",
       "S0002    45.752795  10.638761     7.884093  11.490345  10.125940  0.743806   \n",
       "S0003    42.134909  10.235628     6.902750  11.471274  12.539881  0.963139   \n",
       "\n",
       "           Deli    Bakery  General_Merchandise  \n",
       "Store                                           \n",
       "S0001  4.354993  3.554388             6.765810  \n",
       "S0002  3.979242  2.970153             6.414865  \n",
       "S0003  4.176080  3.610802             7.965537  "
      ]
     },
     "execution_count": 363,
     "metadata": {},
     "output_type": "execute_result"
    }
   ],
   "source": [
    "def getPercentage(row):\n",
    "        return (row/row['Total_Sales'])*100\n",
    "    \n",
    "perc_sales=total_sales.apply(getPercentage,axis=1)\n",
    "#perc_sales['Total_Sales']=total_sales['Total_Sales']\n",
    "perc_sales.reset_index(drop=True,inplace=True,level=1)\n",
    "perc_sales.drop('Total_Sales',inplace=True,axis=1)\n",
    "perc_sales.head(3)"
   ]
  },
  {
   "cell_type": "code",
   "execution_count": 364,
   "metadata": {},
   "outputs": [
    {
     "data": {
      "text/html": [
       "<div>\n",
       "<style scoped>\n",
       "    .dataframe tbody tr th:only-of-type {\n",
       "        vertical-align: middle;\n",
       "    }\n",
       "\n",
       "    .dataframe tbody tr th {\n",
       "        vertical-align: top;\n",
       "    }\n",
       "\n",
       "    .dataframe thead th {\n",
       "        text-align: right;\n",
       "    }\n",
       "</style>\n",
       "<table border=\"1\" class=\"dataframe\">\n",
       "  <thead>\n",
       "    <tr style=\"text-align: right;\">\n",
       "      <th></th>\n",
       "      <th>Dry_Grocery</th>\n",
       "      <th>Dairy</th>\n",
       "      <th>Frozen_Food</th>\n",
       "      <th>Meat</th>\n",
       "      <th>Produce</th>\n",
       "      <th>Floral</th>\n",
       "      <th>Deli</th>\n",
       "      <th>Bakery</th>\n",
       "      <th>General_Merchandise</th>\n",
       "    </tr>\n",
       "  </thead>\n",
       "  <tbody>\n",
       "    <tr>\n",
       "      <th>0</th>\n",
       "      <td>0.809075</td>\n",
       "      <td>0.123437</td>\n",
       "      <td>-0.345390</td>\n",
       "      <td>-0.297199</td>\n",
       "      <td>-0.869242</td>\n",
       "      <td>-0.605960</td>\n",
       "      <td>0.624934</td>\n",
       "      <td>1.139692</td>\n",
       "      <td>-0.380775</td>\n",
       "    </tr>\n",
       "    <tr>\n",
       "      <th>1</th>\n",
       "      <td>0.575979</td>\n",
       "      <td>0.684180</td>\n",
       "      <td>-0.018513</td>\n",
       "      <td>0.293169</td>\n",
       "      <td>-0.583907</td>\n",
       "      <td>-0.314143</td>\n",
       "      <td>-0.135248</td>\n",
       "      <td>0.258721</td>\n",
       "      <td>-0.627521</td>\n",
       "    </tr>\n",
       "    <tr>\n",
       "      <th>2</th>\n",
       "      <td>-1.632047</td>\n",
       "      <td>-0.000024</td>\n",
       "      <td>-1.972473</td>\n",
       "      <td>0.277587</td>\n",
       "      <td>1.100833</td>\n",
       "      <td>0.643122</td>\n",
       "      <td>0.262976</td>\n",
       "      <td>1.224759</td>\n",
       "      <td>0.462742</td>\n",
       "    </tr>\n",
       "  </tbody>\n",
       "</table>\n",
       "</div>"
      ],
      "text/plain": [
       "   Dry_Grocery     Dairy  Frozen_Food      Meat   Produce    Floral      Deli  \\\n",
       "0     0.809075  0.123437    -0.345390 -0.297199 -0.869242 -0.605960  0.624934   \n",
       "1     0.575979  0.684180    -0.018513  0.293169 -0.583907 -0.314143 -0.135248   \n",
       "2    -1.632047 -0.000024    -1.972473  0.277587  1.100833  0.643122  0.262976   \n",
       "\n",
       "     Bakery  General_Merchandise  \n",
       "0  1.139692            -0.380775  \n",
       "1  0.258721            -0.627521  \n",
       "2  1.224759             0.462742  "
      ]
     },
     "metadata": {},
     "output_type": "display_data"
    }
   ],
   "source": [
    "from sklearn.preprocessing import StandardScaler\n",
    "\n",
    "scaler=StandardScaler()\n",
    "\n",
    "scaled_perc_sales=scaler.fit_transform(perc_sales)\n",
    "\n",
    "columns=perc_sales.columns.values\n",
    "scaled_perc_sales = pd.DataFrame(scaled_perc_sales, columns=columns)\n",
    "display(scaled_perc_sales.head(3))"
   ]
  },
  {
   "cell_type": "code",
   "execution_count": 368,
   "metadata": {},
   "outputs": [
    {
     "data": {
      "text/html": [
       "<div>\n",
       "<style scoped>\n",
       "    .dataframe tbody tr th:only-of-type {\n",
       "        vertical-align: middle;\n",
       "    }\n",
       "\n",
       "    .dataframe tbody tr th {\n",
       "        vertical-align: top;\n",
       "    }\n",
       "\n",
       "    .dataframe thead th {\n",
       "        text-align: right;\n",
       "    }\n",
       "</style>\n",
       "<table border=\"1\" class=\"dataframe\">\n",
       "  <thead>\n",
       "    <tr style=\"text-align: right;\">\n",
       "      <th></th>\n",
       "      <th>0</th>\n",
       "      <th>1</th>\n",
       "      <th>2</th>\n",
       "      <th>3</th>\n",
       "      <th>4</th>\n",
       "      <th>5</th>\n",
       "      <th>6</th>\n",
       "      <th>7</th>\n",
       "      <th>8</th>\n",
       "    </tr>\n",
       "  </thead>\n",
       "  <tbody>\n",
       "    <tr>\n",
       "      <th>0</th>\n",
       "      <td>-0.865055</td>\n",
       "      <td>-0.284017</td>\n",
       "      <td>-1.147559</td>\n",
       "      <td>-1.133804</td>\n",
       "      <td>0.356835</td>\n",
       "      <td>-0.176375</td>\n",
       "      <td>-0.481260</td>\n",
       "      <td>-0.114973</td>\n",
       "      <td>5.057992e-15</td>\n",
       "    </tr>\n",
       "    <tr>\n",
       "      <th>1</th>\n",
       "      <td>-0.225262</td>\n",
       "      <td>-0.067025</td>\n",
       "      <td>-1.117871</td>\n",
       "      <td>0.062380</td>\n",
       "      <td>0.422710</td>\n",
       "      <td>-0.284444</td>\n",
       "      <td>0.132689</td>\n",
       "      <td>-0.467791</td>\n",
       "      <td>3.009006e-15</td>\n",
       "    </tr>\n",
       "    <tr>\n",
       "      <th>2</th>\n",
       "      <td>0.567672</td>\n",
       "      <td>-2.240104</td>\n",
       "      <td>1.762435</td>\n",
       "      <td>-0.455149</td>\n",
       "      <td>0.689263</td>\n",
       "      <td>-0.622966</td>\n",
       "      <td>-0.705501</td>\n",
       "      <td>0.159649</td>\n",
       "      <td>-1.746762e-15</td>\n",
       "    </tr>\n",
       "  </tbody>\n",
       "</table>\n",
       "</div>"
      ],
      "text/plain": [
       "          0         1         2         3         4         5         6  \\\n",
       "0 -0.865055 -0.284017 -1.147559 -1.133804  0.356835 -0.176375 -0.481260   \n",
       "1 -0.225262 -0.067025 -1.117871  0.062380  0.422710 -0.284444  0.132689   \n",
       "2  0.567672 -2.240104  1.762435 -0.455149  0.689263 -0.622966 -0.705501   \n",
       "\n",
       "          7             8  \n",
       "0 -0.114973  5.057992e-15  \n",
       "1 -0.467791  3.009006e-15  \n",
       "2  0.159649 -1.746762e-15  "
      ]
     },
     "metadata": {},
     "output_type": "display_data"
    }
   ],
   "source": [
    "from sklearn.decomposition import PCA\n",
    "pca=PCA()\n",
    "pca.fit(scaled_perc_sales)\n",
    "pca_res=pca.transform(scaled_perc_sales)\n",
    "display(pd.DataFrame(pca_res,columns=range(len(scaled_perc_sales.columns))).head(3))"
   ]
  },
  {
   "cell_type": "code",
   "execution_count": 369,
   "metadata": {},
   "outputs": [
    {
     "data": {
      "image/png": "[encoded data removed]",
      "text/plain": [
       "<Figure size 1080x288 with 1 Axes>"
      ]
     },
     "metadata": {},
     "output_type": "display_data"
    }
   ],
   "source": [
    "fig = plt.figure(figsize=(15,4))\n",
    "ax = fig.add_subplot(111)\n",
    "plt.plot(pca.explained_variance_)\n",
    "for i, ev in enumerate(pca.explained_variance_ratio_):\n",
    "    ax.text(i-0.40, ax.get_ylim()[1] + 0.05, \"Explained Variance\\n %.4f\"%(ev))\n",
    "\n",
    "plt.tight_layout()\n",
    "plt.show()"
   ]
  },
  {
   "cell_type": "code",
   "execution_count": 370,
   "metadata": {},
   "outputs": [],
   "source": [
    "n_components=2\n",
    "pca=PCA(n_components=n_components)\n",
    "pca_res=pca.fit_transform(scaled_perc_sales)\n",
    "col_list=[]\n",
    "for i in range(n_components):\n",
    "    #string='Dimension '+ i\n",
    "    col_list.append('Dimension '+str(i))\n",
    "#reduced_data = pd.DataFrame(pca_res, columns = ['Dimension 1', 'Dimension 2'])\n",
    "reduced_perc_sales = pd.DataFrame(pca_res, columns = col_list)"
   ]
  },
  {
   "cell_type": "code",
   "execution_count": 371,
   "metadata": {},
   "outputs": [
    {
     "data": {
      "text/plain": [
       "<matplotlib.axes._subplots.AxesSubplot at 0x28ccb6b7668>"
      ]
     },
     "execution_count": 371,
     "metadata": {},
     "output_type": "execute_result"
    },
    {
     "data": {
      "image/png": "[encoded data removed]",
      "text/plain": [
       "<Figure size 1008x576 with 1 Axes>"
      ]
     },
     "metadata": {},
     "output_type": "display_data"
    }
   ],
   "source": [
    "import matplotlib\n",
    "def biplot(good_data,reduced_data,pca):\n",
    "\n",
    "    fig, ax = plt.subplots(figsize = (14,8))\n",
    "    # scatterplot of the reduced data    \n",
    "    ax.scatter(x=reduced_data.loc[:, 'Dimension 0'], y=reduced_data.loc[:, 'Dimension 1'],\n",
    "        facecolors='b', edgecolors='b', s=70, alpha=0.5)\n",
    "    \n",
    "    feature_vectors = pca.components_.T\n",
    "\n",
    "    # we use scaling factors to make the arrows easier to see\n",
    "    arrow_size, text_pos = 7.0, 8.0,\n",
    "\n",
    "    # projections of the original features\n",
    "    for i, v in enumerate(feature_vectors):\n",
    "        ax.arrow(0, 0, arrow_size*v[0], arrow_size*v[1], \n",
    "                  head_width=0.2, head_length=0.2, linewidth=2, color='red')\n",
    "        ax.text(v[0]*text_pos, v[1]*text_pos, good_data.columns[i], color='black', \n",
    "                 ha='center', va='center', fontsize=18)\n",
    "\n",
    "    ax.set_xlabel(\"Dimension 0\", fontsize=14)\n",
    "    ax.set_ylabel(\"Dimension 1\", fontsize=14)\n",
    "    ax.set_title(\"PC plane with original feature projections.\", fontsize=16);\n",
    "    return ax\n",
    "biplot(scaled_perc_sales,reduced_perc_sales,pca)"
   ]
  },
  {
   "cell_type": "code",
   "execution_count": null,
   "metadata": {},
   "outputs": [],
   "source": []
  },
  {
   "cell_type": "markdown",
   "metadata": {},
   "source": [
    "**CLUSTERING**"
   ]
  },
  {
   "cell_type": "code",
   "execution_count": 372,
   "metadata": {},
   "outputs": [
    {
     "name": "stdout",
     "output_type": "stream",
     "text": [
      "2 Silhouette: 0.2452921870426102 CH score: 32.70417367542224\n",
      "3 Silhouette: 0.28889429281696494 CH score: 34.223459168887054\n",
      "4 Silhouette: 0.2625894695608342 CH score: 31.668636673546533\n",
      "5 Silhouette: 0.23556151699634853 CH score: 27.788098293141097\n",
      "6 Silhouette: 0.23959238405721167 CH score: 25.89125015926075\n",
      "7 Silhouette: 0.22605006580274759 CH score: 24.97570325820505\n",
      "8 Silhouette: 0.19513934586791395 CH score: 23.556294622542648\n",
      "9 Silhouette: 0.22151545282510562 CH score: 23.679918212386383\n",
      "10 Silhouette: 0.2274628246987159 CH score: 23.06067171701705\n",
      "11 Silhouette: 0.19192578446198275 CH score: 22.41743312409865\n"
     ]
    }
   ],
   "source": [
    "from sklearn.cluster import KMeans\n",
    "from sklearn.mixture import GaussianMixture\n",
    "from sklearn.metrics import calinski_harabaz_score,silhouette_score\n",
    "\n",
    "def cluster_Kmeans(data,n_clusters):\n",
    "    clusterer=KMeans(n_clusters=n_clusters,n_init=3,random_state=6)\n",
    "   # clusterer=GaussianMixture(n_clusters=n_clusters,n_init=3,random_state=6)\n",
    "    clusterer.fit(data)\n",
    "    labels=clusterer.labels_\n",
    "    sh_score=silhouette_score(data,labels)\n",
    "    ch_score=calinski_harabaz_score(data,labels)\n",
    "    print(n_clusters, 'Silhouette:', sh_score, 'CH score:', ch_score)\n",
    "    return labels\n",
    "\n",
    "def pred_Kmeans(data,n_clusters):\n",
    "    clusterer=KMeans(n_clusters=n_clusters,n_init=3,random_state=6)\n",
    "   # clusterer=GaussianMixture(n_clusters=n_clusters,n_init=3,random_state=6)\n",
    "    clusterer.fit(data)\n",
    "    pred=clusterer.predict(data)\n",
    "    centers=clusterer.cluster_centers_ \n",
    "    return pred,centers\n",
    "\n",
    "\n",
    "for i in range(2,12):\n",
    "    cluster_Kmeans(perc_sales,i)\n",
    "    "
   ]
  },
  {
   "cell_type": "code",
   "execution_count": 373,
   "metadata": {},
   "outputs": [
    {
     "name": "stdout",
     "output_type": "stream",
     "text": [
      "2 Silhouette: 0.18974877233453924 CH score: 23.063599894676706\n",
      "3 Silhouette: 0.17499425411126088 CH score: 20.020125574462003\n",
      "4 Silhouette: 0.17358782312338572 CH score: 17.752994242987548\n",
      "5 Silhouette: 0.18630249795133208 CH score: 16.785144863907487\n",
      "6 Silhouette: 0.1469774209551613 CH score: 14.256228572918566\n",
      "7 Silhouette: 0.20467949329006785 CH score: 15.954422102037212\n",
      "8 Silhouette: 0.19421806051835366 CH score: 15.681323399065349\n",
      "9 Silhouette: 0.19094356672875806 CH score: 14.774208624395907\n",
      "10 Silhouette: 0.1767791146985415 CH score: 14.33538869636395\n",
      "11 Silhouette: 0.18353808541474914 CH score: 14.012856684014377\n"
     ]
    }
   ],
   "source": [
    "for i in range(2,12):\n",
    "    cluster_Kmeans(scaled_perc_sales,i)"
   ]
  },
  {
   "cell_type": "code",
   "execution_count": 378,
   "metadata": {},
   "outputs": [
    {
     "name": "stdout",
     "output_type": "stream",
     "text": [
      "3 Silhouette: 0.17499425411126088 CH score: 20.020125574462003\n",
      "2    33\n",
      "1    29\n",
      "0    23\n",
      "Name: labels, dtype: int64\n"
     ]
    }
   ],
   "source": [
    "labels=cluster_Kmeans(scaled_perc_sales,3)\n",
    "perc_result=scaled_perc_sales.copy()\n",
    "perc_result['labels']=labels\n",
    "print(perc_result['labels'].value_counts())"
   ]
  },
  {
   "cell_type": "code",
   "execution_count": 377,
   "metadata": {
    "scrolled": true
   },
   "outputs": [],
   "source": [
    "import matplotlib.cm as cm\n",
    "def cluster_res(data,preds,centers):\n",
    "    predictions = pd.DataFrame(preds, columns = ['Cluster'])\n",
    "    plot_data = pd.concat([predictions, data], axis = 1)\n",
    "\n",
    "    fig, ax = plt.subplots(figsize = (14,8))\n",
    "\n",
    "    cmap = cm.get_cmap('gist_rainbow')\n",
    "\n",
    "    # Color the points based on assigned cluster\n",
    "    for i, cluster in plot_data.groupby('Cluster'):   \n",
    "           cluster.plot(ax = ax, kind = 'scatter', x = 'Dimension 0', y = 'Dimension 1', \\\n",
    "           color = cmap((i)*1.0/(len(centers)-1)), label = 'Cluster %i'%(i), s=30);\n",
    "\n",
    "# Plot centers with indicators\n",
    "    for i, c in enumerate(centers):\n",
    "        ax.scatter(x = c[0], y = c[1], color = 'white', edgecolors = 'black', \\\n",
    "                  alpha = 1, linewidth = 2, marker = 'o', s=200);\n",
    "        ax.scatter(x = c[0], y = c[1], marker='$%d$'%(i), alpha = 1, s=100);\n",
    "    \n",
    "\n",
    "    ax.set_title(\"Cluster Learning on PCA-Reduced Data - Centroids Marked by Number\\nTransformed Sample Data Marked by Black Cross\");\n"
   ]
  },
  {
   "cell_type": "code",
   "execution_count": 379,
   "metadata": {},
   "outputs": [
    {
     "data": {
      "image/png": "[encoded data removed]",
      "text/plain": [
       "<Figure size 1008x576 with 1 Axes>"
      ]
     },
     "metadata": {},
     "output_type": "display_data"
    }
   ],
   "source": [
    "#pred_res,center=pred_Kmeans(reduced_year_sales,3)\n",
    "#cluster_res(reduced_year_sales,pred_res,center)\n",
    "\n",
    "pred_res,center=pred_Kmeans(scaled_perc_sales,3)\n",
    "cluster_res(reduced_perc_sales,pred_res,center)"
   ]
  },
  {
   "cell_type": "code",
   "execution_count": null,
   "metadata": {},
   "outputs": [],
   "source": []
  }
 ],
 "metadata": {
  "kernelspec": {
   "display_name": "Python 3",
   "language": "python",
   "name": "python3"
  },
  "language_info": {
   "codemirror_mode": {
    "name": "ipython",
    "version": 3
   },
   "file_extension": ".py",
   "mimetype": "text/x-python",
   "name": "python",
   "nbconvert_exporter": "python",
   "pygments_lexer": "ipython3",
   "version": "3.6.1"
  }
 },
 "nbformat": 4,
 "nbformat_minor": 2
}
